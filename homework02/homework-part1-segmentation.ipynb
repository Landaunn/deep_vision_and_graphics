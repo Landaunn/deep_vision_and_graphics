{
 "cells": [
  {
   "cell_type": "markdown",
   "id": "03840993",
   "metadata": {},
   "source": [
    "**Neural networks for road segmentation**\n",
    "========================"
   ]
  },
  {
   "cell_type": "markdown",
   "id": "7def38b0",
   "metadata": {},
   "source": [
    "Your next task is to train neural network to segment road on images from car cams."
   ]
  },
  {
   "cell_type": "markdown",
   "id": "9cdf93db",
   "metadata": {},
   "source": [
    "The original dataset is provided by Karlsruhe Institute of Technology (http://www.cvlibs.net/datasets/kitti/eval_road.php). Their images are ±370x1270, but, for simlictiy, we will use 370x370 squares."
   ]
  },
  {
   "cell_type": "markdown",
   "id": "2072b7bb",
   "metadata": {},
   "source": [
    "One can download the dataset from https://disk.yandex.ru/d/QPOw4hk84-se_w"
   ]
  },
  {
   "cell_type": "markdown",
   "id": "6fec3016",
   "metadata": {},
   "source": [
    "Here is an example of input data with corresponding ground truth:"
   ]
  },
  {
   "cell_type": "code",
   "execution_count": 1,
   "id": "a07565b2",
   "metadata": {},
   "outputs": [],
   "source": [
    "import os\n",
    "import cv2\n",
    "import numpy as np\n",
    "\n",
    "import torchvision.transforms as transforms\n",
    "from torch.utils.data import Dataset\n",
    "import albumentations as A\n",
    "\n",
    "import matplotlib.pyplot as plt\n",
    "%matplotlib inline"
   ]
  },
  {
   "cell_type": "code",
   "execution_count": 2,
   "id": "2d6665d8",
   "metadata": {},
   "outputs": [],
   "source": [
    "def get_paths(path):\n",
    "    _, _, filenames = next(os.walk(path))\n",
    "\n",
    "    images_paths = []\n",
    "    for filename in sorted(filenames):            \n",
    "        images_paths.append(os.path.join(path, filename))\n",
    "    \n",
    "    return np.stack(images_paths)\n",
    "\n",
    "class RoadDataset(Dataset):\n",
    "    \"\"\"Feel free to rewrite it. For ex. cache all images in RAM to increase training speed\"\"\"\n",
    "    def __init__(self, images, masks, transform, aug=None,):\n",
    "        self.images = sorted(images)\n",
    "        self.masks = sorted(masks)\n",
    "        self.transform = transform\n",
    "        self.aug = aug\n",
    "    \n",
    "    def __len__(self):\n",
    "        return len(self.images)\n",
    "    \n",
    "    def __getitem__(self, idx):        \n",
    "        im_name = self.images[idx]\n",
    "        mask_name = self.masks[idx]\n",
    "        \n",
    "        image = cv2.imread(im_name)[:,:,::-1] / 255.0  # ::-1 to convert from BGR to RGB\n",
    "        mask = cv2.imread(mask_name, cv2.IMREAD_GRAYSCALE)\n",
    "        mask = (mask > 0).astype(np.float32)\n",
    "        \n",
    "        if self.aug:\n",
    "            sample = self.aug(\n",
    "                image=image,\n",
    "                mask=mask,\n",
    "            )\n",
    "        else:\n",
    "            sample = {\n",
    "                'image': image,\n",
    "                'mask': mask,\n",
    "            }\n",
    "        \n",
    "        sample['image'] = self.transform(sample['image']).float()\n",
    "        sample['mask'] = self.transform(sample['mask']).float()\n",
    "\n",
    "        return sample"
   ]
  },
  {
   "cell_type": "code",
   "execution_count": 3,
   "id": "57f2b951",
   "metadata": {},
   "outputs": [],
   "source": [
    "X_train = get_paths(\"data/train/images\")\n",
    "y_train = get_paths(\"data/train/gt\")\n",
    "\n",
    "transform = transforms.Compose([\n",
    "    transforms.ToTensor()\n",
    "])\n",
    "\n",
    "train_aug = A.Compose([\n",
    "    #A.GaussNoise(\n",
    "    #    var_limit=0.1,\n",
    "    #    p=0.25),\n",
    "    #A.VerticalFlip(p=0.1),\n",
    "    #A.HorizontalFlip(p=0.3),\n",
    "    #A.ShiftScaleRotate(\n",
    "    #    shift_limit=0.09,\n",
    "    #    rotate_limit=15,\n",
    "    #    border_mode=0,\n",
    "    #    p=0.25\n",
    "    #),\n",
    "    A.transforms.PadIfNeeded(\n",
    "        min_height=572,\n",
    "        min_width=572,\n",
    "        border_mode=0\n",
    "    ),\n",
    "])"
   ]
  },
  {
   "cell_type": "code",
   "execution_count": 4,
   "id": "52bb8b58",
   "metadata": {},
   "outputs": [],
   "source": [
    "X_test = get_paths(\"data/test/images/\")\n",
    "y_test = get_paths(\"data/test/gt\")\n",
    "\n",
    "test_aug = A.Compose([\n",
    "    A.transforms.PadIfNeeded(\n",
    "        min_height=572,\n",
    "        min_width=572,\n",
    "        border_mode=0\n",
    "    ),\n",
    "])"
   ]
  },
  {
   "cell_type": "code",
   "execution_count": 5,
   "id": "bc255049",
   "metadata": {},
   "outputs": [],
   "source": [
    "train_dataset = RoadDataset(X_train, y_train, transform, aug=train_aug)\n",
    "test_dataset = RoadDataset(X_test, y_test, transform, aug=test_aug)"
   ]
  },
  {
   "cell_type": "code",
   "execution_count": 6,
   "id": "9056519f",
   "metadata": {},
   "outputs": [
    {
     "data": {
      "text/plain": [
       "<matplotlib.image.AxesImage at 0x7fccd33c5e10>"
      ]
     },
     "execution_count": 6,
     "metadata": {},
     "output_type": "execute_result"
    },
    {
     "data": {
      "image/png": "[encoded data removed]",
      "text/plain": [
       "<Figure size 432x288 with 2 Axes>"
      ]
     },
     "metadata": {
      "needs_background": "light"
     },
     "output_type": "display_data"
    }
   ],
   "source": [
    "sample = train_dataset[0]\n",
    "image = sample['image']\n",
    "mask = sample['mask']\n",
    "\n",
    "plt.subplot(1, 2, 1)\n",
    "plt.imshow(image.permute(1, 2, 0))\n",
    "plt.subplot(1, 2, 2)\n",
    "plt.imshow(mask.permute(1, 2, 0))"
   ]
  },
  {
   "cell_type": "code",
   "execution_count": 7,
   "id": "5738e572",
   "metadata": {},
   "outputs": [
    {
     "data": {
      "text/plain": [
       "torch.Size([3, 572, 572])"
      ]
     },
     "execution_count": 7,
     "metadata": {},
     "output_type": "execute_result"
    }
   ],
   "source": [
    "image.shape"
   ]
  },
  {
   "cell_type": "code",
   "execution_count": 8,
   "id": "3cbc3dcc",
   "metadata": {},
   "outputs": [
    {
     "data": {
      "text/plain": [
       "torch.Size([1, 572, 572])"
      ]
     },
     "execution_count": 8,
     "metadata": {},
     "output_type": "execute_result"
    }
   ],
   "source": [
    "mask.shape"
   ]
  },
  {
   "cell_type": "markdown",
   "id": "e7a8986f",
   "metadata": {},
   "source": [
    "Workflow:\n",
    "---\n",
    "* Choose correct loss function, write training loop and code for testing. Feel free to use previous HW for inspiration. \n",
    "* Train any segmentation neural network from scratch (for example U-Net) and achieve >= 0.75 IoU on test set (40% points). See function to calculate the metric below.\n",
    "* Use any pretrained model for image classification, convert it for segmentation by adding decoder (don't forget skip-connections) or usign dilated convolutions and achieve >= 0.87 IoU  on test set (60% points).\n",
    "\n",
    "You're not allowed to do only one thing: train your network on test set.\n",
    "\n",
    "----\n",
    "Your final solution will consist of an ipython notebook with code (for final networks training + any experiments with data) and test metric calculation.\n",
    "\n",
    "Feel free to ask in Telegram chat if something is not clear :3\n"
   ]
  },
  {
   "cell_type": "code",
   "execution_count": 9,
   "id": "d91bc236",
   "metadata": {},
   "outputs": [
    {
     "name": "stdout",
     "output_type": "stream",
     "text": [
      "Train Dataset length 648\n",
      "Test Dataset length 219\n"
     ]
    }
   ],
   "source": [
    "print(f\"Train Dataset length {len(train_dataset)}\")\n",
    "print(f\"Test Dataset length {len(test_dataset)}\")"
   ]
  },
  {
   "cell_type": "markdown",
   "id": "057ee74d",
   "metadata": {},
   "source": [
    "Dataset is small so actively use data augmentation: rotations, flip, color-change etc. to prevent overfitting.\n",
    "\n",
    "Most likely you'll have to pad your images to 512x512 (it divides by 2^5=32, like U-Net wants). Use PadIfNeeded from Albumentations and central crop (see below) after prediction to calculate loss/metrics (you don't want to pay attention on padded values).\n",
    "\n",
    "----\n",
    "There is a hard data class imbalance in dataset, so the network output will be biased toward \"zero\" class. You can either tune the minimal probability threshold for the \"road\" class, or add class weights in optimized loss. You also can try to use softIoU or DICE loss."
   ]
  },
  {
   "cell_type": "markdown",
   "id": "1c0dcf8f",
   "metadata": {},
   "source": [
    "Good luck!"
   ]
  },
  {
   "cell_type": "code",
   "execution_count": 10,
   "id": "50a8610c",
   "metadata": {},
   "outputs": [],
   "source": [
    "def calc_iou(prediction, ground_truth):\n",
    "    eps = 1e-6\n",
    "    n_images = len(prediction)\n",
    "    intersection, union = 0, 0\n",
    "    for i in range(n_images):\n",
    "        intersection += np.logical_and(prediction[i] > 0, ground_truth[i] > 0).astype(np.float32).sum() \n",
    "        union += np.logical_or(prediction[i] > 0, ground_truth[i] > 0).astype(np.float32).sum()\n",
    "    return float(intersection) / (union + eps)"
   ]
  },
  {
   "cell_type": "code",
   "execution_count": 11,
   "id": "0483e274",
   "metadata": {},
   "outputs": [],
   "source": [
    "def central_crop(images, size):\n",
    "    current_size = images.size(2)\n",
    "    border_len = (current_size - size) // 2\n",
    "    new_images = images[:, :, border_len:current_size-border_len, border_len:current_size-border_len]\n",
    "    \n",
    "    return new_images"
   ]
  },
  {
   "cell_type": "code",
   "execution_count": null,
   "id": "389fe637",
   "metadata": {},
   "outputs": [],
   "source": []
  },
  {
   "cell_type": "code",
   "execution_count": null,
   "id": "e887c0f4",
   "metadata": {},
   "outputs": [],
   "source": []
  },
  {
   "cell_type": "code",
   "execution_count": null,
   "id": "53e16925",
   "metadata": {},
   "outputs": [],
   "source": []
  },
  {
   "cell_type": "markdown",
   "id": "e9654831",
   "metadata": {},
   "source": [
    "## Part 1\n",
    "### UNET"
   ]
  },
  {
   "cell_type": "code",
   "execution_count": 12,
   "id": "293951bd",
   "metadata": {},
   "outputs": [],
   "source": [
    "import torch\n",
    "from torch import nn\n",
    "from torch.utils.data import DataLoader"
   ]
  },
  {
   "cell_type": "code",
   "execution_count": 13,
   "id": "58f9024d",
   "metadata": {},
   "outputs": [],
   "source": [
    "torch.manual_seed(0)\n",
    "torch.use_deterministic_algorithms(True)\n",
    "torch.backends.cudnn.deterministic = True\n",
    "np.random.seed(0)"
   ]
  },
  {
   "cell_type": "code",
   "execution_count": 13,
   "id": "584cf6eb",
   "metadata": {},
   "outputs": [],
   "source": [
    "class Unet(nn.Module):\n",
    "    def __init__(self, ):\n",
    "        super().__init__()\n",
    "        \n",
    "        self.encoder_block_1 = nn.Sequential(\n",
    "            nn.Conv2d(3, 64, 3),\n",
    "            nn.BatchNorm2d(64),\n",
    "            nn.ReLU(),\n",
    "            \n",
    "            nn.Conv2d(64, 64, 3),\n",
    "            nn.BatchNorm2d(64),\n",
    "            nn.ReLU(),\n",
    "        )\n",
    "        \n",
    "        self.pooling_1 = nn.MaxPool2d(2)\n",
    "        \n",
    "        self.encoder_block_2 = nn.Sequential(\n",
    "            nn.Conv2d(64, 128, 3),\n",
    "            nn.BatchNorm2d(128),\n",
    "            nn.ReLU(),\n",
    "            \n",
    "            nn.Conv2d(128, 128, 3),\n",
    "            nn.BatchNorm2d(128),\n",
    "            nn.ReLU(),\n",
    "        )\n",
    "        \n",
    "        self.pooling_2 = nn.MaxPool2d(2)\n",
    "        \n",
    "        self.encoder_block_3 = nn.Sequential(\n",
    "            nn.Conv2d(128, 256, 3),\n",
    "            nn.BatchNorm2d(256),\n",
    "            nn.ReLU(),\n",
    "            \n",
    "            nn.Conv2d(256, 256, 3),\n",
    "            nn.BatchNorm2d(256),\n",
    "            nn.ReLU(),\n",
    "        )\n",
    "        self.pooling_3 = nn.MaxPool2d(2)\n",
    "        \n",
    "        self.encoder_block_4 = nn.Sequential(\n",
    "            nn.Conv2d(256, 512, 3),\n",
    "            nn.BatchNorm2d(512),\n",
    "            nn.ReLU(),\n",
    "            \n",
    "            nn.Conv2d(512, 512, 3),\n",
    "            nn.BatchNorm2d(512),\n",
    "            nn.ReLU(),\n",
    "        )\n",
    "        self.pooling_4 = nn.MaxPool2d(2)\n",
    "        \n",
    "        self.bottleneck = nn.Sequential(\n",
    "            nn.Conv2d(512, 1024, 3),\n",
    "            nn.BatchNorm2d(1024),\n",
    "            nn.ReLU(),\n",
    "            \n",
    "            nn.Conv2d(1024, 1024, 3),\n",
    "            nn.BatchNorm2d(1024),\n",
    "            nn.ReLU()\n",
    "        )\n",
    "        \n",
    "        self.upconv_1 = nn.ConvTranspose2d(1024, 512, 2, 2)\n",
    "        \n",
    "        self.decoder_block_1 = nn.Sequential(\n",
    "            nn.Conv2d(1024, 512, 3),\n",
    "            nn.BatchNorm2d(512),\n",
    "            nn.ReLU(),\n",
    "            \n",
    "            nn.Conv2d(512, 512, 3),\n",
    "            nn.BatchNorm2d(512),\n",
    "            nn.ReLU()\n",
    "        \n",
    "        )\n",
    "        self.upconv_2 = nn.ConvTranspose2d(512, 256, 2, 2)\n",
    "        self.decoder_block_2 = nn.Sequential(\n",
    "            nn.Conv2d(512, 256, 3),\n",
    "            nn.BatchNorm2d(256),\n",
    "            nn.ReLU(),\n",
    "            \n",
    "            nn.Conv2d(256, 256, 3),\n",
    "            nn.BatchNorm2d(256),\n",
    "            nn.ReLU()\n",
    "        \n",
    "        )\n",
    "        \n",
    "        self.upconv_3 = nn.ConvTranspose2d(256, 128, 2, 2)\n",
    "        self.decoder_block_3 = nn.Sequential(\n",
    "            nn.Conv2d(256, 128, 3),\n",
    "            nn.BatchNorm2d(128),\n",
    "            nn.ReLU(),\n",
    "            \n",
    "            nn.Conv2d(128, 128, 3),\n",
    "            nn.BatchNorm2d(128),\n",
    "            nn.ReLU()\n",
    "        )\n",
    "        \n",
    "        self.upconv_4 = nn.ConvTranspose2d(128, 64, 2, 2)\n",
    "        self.decoder_block_4 = nn.Sequential(\n",
    "            nn.Conv2d(128, 64, 3),\n",
    "            nn.BatchNorm2d(64),\n",
    "            nn.ReLU(),\n",
    "            \n",
    "            nn.Conv2d(64, 64, 3),\n",
    "            nn.BatchNorm2d(64),\n",
    "            nn.ReLU()\n",
    "        )\n",
    "        \n",
    "        self.conv = nn.Conv2d(64, 1, 1)\n",
    "        \n",
    "    def forward(self, x):\n",
    "        encoder_1 = self.encoder_block_1(x)\n",
    "        encoder_2 = self.encoder_block_2(self.pooling_1(encoder_1))\n",
    "        encoder_3 = self.encoder_block_3(self.pooling_2(encoder_2))\n",
    "        encoder_4 = self.encoder_block_4(self.pooling_3(encoder_3))\n",
    "        bottleneck = self.bottleneck(self.pooling_4(encoder_4))\n",
    "        \n",
    "        upsample_1 = self.upconv_1(bottleneck)\n",
    "        decoder_1 = self.decoder_block_1(self.stack(encoder_4, upsample_1))\n",
    "        upsample_2 = self.upconv_2(decoder_1)\n",
    "        decoder_2 = self.decoder_block_2(self.stack(encoder_3, upsample_2))\n",
    "        upsample_3 = self.upconv_3(decoder_2)\n",
    "        decoder_3 = self.decoder_block_3(self.stack(encoder_2, upsample_3))\n",
    "        upsample_4 = self.upconv_4(decoder_3)\n",
    "        decoder_4 = self.decoder_block_4(self.stack(encoder_1, upsample_4))\n",
    "        output = self.conv(decoder_4)\n",
    "        \n",
    "        return output\n",
    "    \n",
    "    def stack(self, encoder, decoder):\n",
    "        encoder_size = encoder.shape[2]\n",
    "        decoder_size = decoder.shape[2]\n",
    "        \n",
    "        start_index = (encoder_size - decoder_size) // 2\n",
    "        \n",
    "        slice_encoder = encoder[:, :,\n",
    "                                start_index: decoder_size + start_index,\n",
    "                                start_index: decoder_size + start_index,\n",
    "                               ]\n",
    "        \n",
    "        output = torch.cat([slice_encoder, decoder], dim=1)\n",
    "        \n",
    "        return output\n",
    "        "
   ]
  },
  {
   "cell_type": "markdown",
   "id": "a7aef484",
   "metadata": {},
   "source": [
    "### Train"
   ]
  },
  {
   "cell_type": "markdown",
   "id": "6e7ac8b0",
   "metadata": {},
   "source": [
    "Create DataLoaders"
   ]
  },
  {
   "cell_type": "code",
   "execution_count": null,
   "id": "d6594f22",
   "metadata": {},
   "outputs": [],
   "source": []
  },
  {
   "cell_type": "code",
   "execution_count": 13,
   "id": "7736b700",
   "metadata": {},
   "outputs": [],
   "source": [
    "batch_size = 16\n",
    "train_dataloader = DataLoader(train_dataset, batch_size=batch_size, shuffle=True, num_workers=4)\n",
    "test_dataloader = DataLoader(test_dataset, 1, shuffle=False)"
   ]
  },
  {
   "cell_type": "code",
   "execution_count": 13,
   "id": "31cbf68b",
   "metadata": {},
   "outputs": [],
   "source": [
    "from torch.nn import functional as F"
   ]
  },
  {
   "cell_type": "code",
   "execution_count": 15,
   "id": "241bdd2f",
   "metadata": {},
   "outputs": [],
   "source": [
    "class DiceLoss(nn.Module):\n",
    "    def __init__(self, weight=None, size_average=True):\n",
    "        super(DiceLoss, self).__init__()\n",
    "\n",
    "    def forward(self, inputs, targets, smooth=1e-6):\n",
    "        \n",
    "        #comment out if your model contains a sigmoid or equivalent activation layer\n",
    "        inputs = F.sigmoid(inputs)       \n",
    "        \n",
    "        #flatten label and prediction tensors\n",
    "        inputs = inputs.reshape(-1)\n",
    "        targets = targets.reshape(-1)\n",
    "        \n",
    "        intersection = (inputs * targets).sum()                            \n",
    "        dice = (2.*intersection + smooth)/(inputs.sum() + targets.sum() + smooth)  \n",
    "        \n",
    "        return 1 - dice"
   ]
  },
  {
   "cell_type": "code",
   "execution_count": 16,
   "id": "a21f57d8",
   "metadata": {},
   "outputs": [],
   "source": [
    "from tqdm import tqdm"
   ]
  },
  {
   "cell_type": "code",
   "execution_count": 17,
   "id": "cf326bf3",
   "metadata": {},
   "outputs": [],
   "source": [
    "device = 'cuda:0' if torch.cuda.is_available() else 'cpu'"
   ]
  },
  {
   "cell_type": "code",
   "execution_count": 18,
   "id": "6843cb07",
   "metadata": {},
   "outputs": [],
   "source": [
    "def train(\n",
    "    num_epochs,\n",
    "    model,\n",
    "    train_dataloader,\n",
    "    val_dataloader,\n",
    "    optimizer,\n",
    "    criterion,\n",
    "    threshold=0.5\n",
    "):\n",
    "    \n",
    "    train_losses = []\n",
    "    train_metrics = []\n",
    "    best_test_iou = 0\n",
    "    \n",
    "    \n",
    "    for epoch in tqdm(range(num_epochs)):\n",
    "        train_loss_epoch = []\n",
    "        train_metric_epoch = []\n",
    "        test_loss_epoch = []\n",
    "        test_metric_epoch = []\n",
    "        model.train()\n",
    "        for batch in train_dataloader:\n",
    "            optimizer.zero_grad()\n",
    "                \n",
    "            images = batch['image']\n",
    "            masks = batch['mask']\n",
    "            \n",
    "            images = images.to(device)\n",
    "            masks = masks.to(device)\n",
    "            \n",
    "            \n",
    "            output = model(images)\n",
    "            logits = central_crop(output, 370)\n",
    "            gt = central_crop(masks, 370)\n",
    "            loss = criterion(logits, gt)\n",
    "            loss.backward()\n",
    "            optimizer.step()\n",
    "                        \n",
    "            train_loss_epoch.append(loss.item())\n",
    "                      \n",
    "            metric = calc_iou(F.sigmoid(logits).detach().cpu().numpy() > threshold,\n",
    "                              gt.detach().cpu().numpy())\n",
    "            train_metric_epoch.append(metric)\n",
    "        \n",
    "        model.eval()\n",
    "        for batch in val_dataloader:\n",
    "            images = batch['image']\n",
    "            masks = batch['mask']\n",
    "            \n",
    "            images = images.to(device)\n",
    "            masks = masks.to(device)\n",
    "            \n",
    "            output = model(images)\n",
    "            logits = central_crop(output, 370)\n",
    "            gt = central_crop(masks, 370)\n",
    "            loss = criterion(logits, gt)\n",
    "                      \n",
    "            test_loss_epoch.append(loss.item())\n",
    "            \n",
    "            metric = calc_iou(F.sigmoid(logits).detach().cpu().numpy() > threshold,\n",
    "                              gt.detach().cpu().numpy())\n",
    "            test_metric_epoch.append(metric)\n",
    "        print(f'Epoch {epoch + 1}')\n",
    "        print(f' Train loss: {np.array(train_loss_epoch).mean()}; Train IoU: {np.array(train_metric_epoch).mean()}')\n",
    "        print(f' Test loss: {np.array(test_loss_epoch).mean()}; Test IoU: {np.array(test_metric_epoch).mean()}')\n",
    "        \n",
    "        if best_test_iou < np.array(test_metric_epoch).mean():\n",
    "            best_test_iou = np.array(test_metric_epoch).mean()\n",
    "            \n",
    "    print(f'Best IoU score on test: {best_test_iou}')"
   ]
  },
  {
   "cell_type": "code",
   "execution_count": 22,
   "id": "235ff43e",
   "metadata": {},
   "outputs": [],
   "source": [
    "model = Unet().to(device)"
   ]
  },
  {
   "cell_type": "code",
   "execution_count": 23,
   "id": "c1a5b20f",
   "metadata": {},
   "outputs": [],
   "source": [
    "criterion = DiceLoss()\n",
    "optimizer = torch.optim.Adam(model.parameters(), lr=1e-4)\n",
    "num_epochs = 30"
   ]
  },
  {
   "cell_type": "markdown",
   "id": "78bf75d9",
   "metadata": {},
   "source": [
    "Train without augmentations"
   ]
  },
  {
   "cell_type": "code",
   "execution_count": 24,
   "id": "0951a382",
   "metadata": {
    "scrolled": true
   },
   "outputs": [
    {
     "name": "stderr",
     "output_type": "stream",
     "text": [
      "  0%|          | 0/30 [00:00<?, ?it/s]/home/kozunov/courses/dvag/env/lib/python3.6/site-packages/torch/nn/functional.py:1806: UserWarning: nn.functional.sigmoid is deprecated. Use torch.sigmoid instead.\n",
      "  warnings.warn(\"nn.functional.sigmoid is deprecated. Use torch.sigmoid instead.\")\n",
      "/home/kozunov/courses/dvag/env/lib/python3.6/site-packages/ipykernel_launcher.py:7: RuntimeWarning: invalid value encountered in double_scalars\n",
      "  import sys\n",
      "  3%|▎         | 1/30 [01:10<34:06, 70.58s/it]"
     ]
    },
    {
     "name": "stdout",
     "output_type": "stream",
     "text": [
      "Epoch 1\n",
      " Train loss: 0.46194110701723795; Train IoU: 0.5818510224247847\n",
      " Test loss: 0.6515372844591533; Test IoU: nan\n"
     ]
    },
    {
     "name": "stderr",
     "output_type": "stream",
     "text": [
      "\r",
      "  7%|▋         | 2/30 [02:21<33:01, 70.76s/it]"
     ]
    },
    {
     "name": "stdout",
     "output_type": "stream",
     "text": [
      "Epoch 2\n",
      " Train loss: 0.34126914419778964; Train IoU: 0.7043752276113397\n",
      " Test loss: 0.4708570489600369; Test IoU: 0.564684051935381\n"
     ]
    },
    {
     "name": "stderr",
     "output_type": "stream",
     "text": [
      "\r",
      " 10%|█         | 3/30 [03:32<31:51, 70.80s/it]"
     ]
    },
    {
     "name": "stdout",
     "output_type": "stream",
     "text": [
      "Epoch 3\n",
      " Train loss: 0.31130379874531816; Train IoU: 0.7217952727888268\n",
      " Test loss: 0.4357987612349802; Test IoU: 0.5782668346242397\n"
     ]
    },
    {
     "name": "stderr",
     "output_type": "stream",
     "text": [
      "\r",
      " 13%|█▎        | 4/30 [04:43<30:42, 70.85s/it]"
     ]
    },
    {
     "name": "stdout",
     "output_type": "stream",
     "text": [
      "Epoch 4\n",
      " Train loss: 0.2889664245814812; Train IoU: 0.7308883694328806\n",
      " Test loss: 0.4186073000028253; Test IoU: 0.6311275234634832\n"
     ]
    },
    {
     "name": "stderr",
     "output_type": "stream",
     "text": [
      "\r",
      " 17%|█▋        | 5/30 [05:54<29:30, 70.82s/it]"
     ]
    },
    {
     "name": "stdout",
     "output_type": "stream",
     "text": [
      "Epoch 5\n",
      " Train loss: 0.26616220357941417; Train IoU: 0.7530514678433138\n",
      " Test loss: 0.4114887123782885; Test IoU: 0.603804083465859\n"
     ]
    },
    {
     "name": "stderr",
     "output_type": "stream",
     "text": [
      "\r",
      " 20%|██        | 6/30 [07:04<28:17, 70.75s/it]"
     ]
    },
    {
     "name": "stdout",
     "output_type": "stream",
     "text": [
      "Epoch 6\n",
      " Train loss: 0.25206415100795465; Train IoU: 0.7601813637762262\n",
      " Test loss: 0.43551517376616666; Test IoU: 0.5510396936571967\n"
     ]
    },
    {
     "name": "stderr",
     "output_type": "stream",
     "text": [
      "\r",
      " 23%|██▎       | 7/30 [08:15<27:05, 70.67s/it]"
     ]
    },
    {
     "name": "stdout",
     "output_type": "stream",
     "text": [
      "Epoch 7\n",
      " Train loss: 0.2321383182595416; Train IoU: 0.7739833964398188\n",
      " Test loss: 0.38515940403829424; Test IoU: 0.6243540030038336\n"
     ]
    },
    {
     "name": "stderr",
     "output_type": "stream",
     "text": [
      "\r",
      " 27%|██▋       | 8/30 [09:25<25:54, 70.65s/it]"
     ]
    },
    {
     "name": "stdout",
     "output_type": "stream",
     "text": [
      "Epoch 8\n",
      " Train loss: 0.22648714955260113; Train IoU: 0.770800555583502\n",
      " Test loss: 0.3862720491134957; Test IoU: 0.6225262340606657\n"
     ]
    },
    {
     "name": "stderr",
     "output_type": "stream",
     "text": [
      "\r",
      " 30%|███       | 9/30 [10:36<24:42, 70.61s/it]"
     ]
    },
    {
     "name": "stdout",
     "output_type": "stream",
     "text": [
      "Epoch 9\n",
      " Train loss: 0.2148649910601174; Train IoU: 0.7782678400104192\n",
      " Test loss: 0.3621323797256435; Test IoU: 0.6577633908953235\n"
     ]
    },
    {
     "name": "stderr",
     "output_type": "stream",
     "text": [
      "\r",
      " 33%|███▎      | 10/30 [11:46<23:32, 70.60s/it]"
     ]
    },
    {
     "name": "stdout",
     "output_type": "stream",
     "text": [
      "Epoch 10\n",
      " Train loss: 0.19697271759917095; Train IoU: 0.7983089958885068\n",
      " Test loss: 0.3594154511412529; Test IoU: 0.6661278927708357\n"
     ]
    },
    {
     "name": "stderr",
     "output_type": "stream",
     "text": [
      "\r",
      " 37%|███▋      | 11/30 [12:57<22:21, 70.59s/it]"
     ]
    },
    {
     "name": "stdout",
     "output_type": "stream",
     "text": [
      "Epoch 11\n",
      " Train loss: 0.18555576481470248; Train IoU: 0.80296960015398\n",
      " Test loss: 0.35567398240032805; Test IoU: 0.6729451632075781\n"
     ]
    },
    {
     "name": "stderr",
     "output_type": "stream",
     "text": [
      "\r",
      " 40%|████      | 12/30 [14:07<21:10, 70.57s/it]"
     ]
    },
    {
     "name": "stdout",
     "output_type": "stream",
     "text": [
      "Epoch 12\n",
      " Train loss: 0.17940229032097793; Train IoU: 0.8070762309129913\n",
      " Test loss: 0.33282224228393; Test IoU: 0.6781782122726058\n"
     ]
    },
    {
     "name": "stderr",
     "output_type": "stream",
     "text": [
      "\r",
      " 43%|████▎     | 13/30 [15:18<20:00, 70.61s/it]"
     ]
    },
    {
     "name": "stdout",
     "output_type": "stream",
     "text": [
      "Epoch 13\n",
      " Train loss: 0.16887478421374066; Train IoU: 0.8159853271993501\n",
      " Test loss: 0.33290135343325195; Test IoU: 0.6791263729678018\n"
     ]
    },
    {
     "name": "stderr",
     "output_type": "stream",
     "text": [
      "\r",
      " 47%|████▋     | 14/30 [16:29<18:49, 70.61s/it]"
     ]
    },
    {
     "name": "stdout",
     "output_type": "stream",
     "text": [
      "Epoch 14\n",
      " Train loss: 0.15649040879272832; Train IoU: 0.8257045520314586\n",
      " Test loss: 0.31304157896128965; Test IoU: 0.6767273598389074\n"
     ]
    },
    {
     "name": "stderr",
     "output_type": "stream",
     "text": [
      "\r",
      " 50%|█████     | 15/30 [17:39<17:39, 70.65s/it]"
     ]
    },
    {
     "name": "stdout",
     "output_type": "stream",
     "text": [
      "Epoch 15\n",
      " Train loss: 0.1449939274206394; Train IoU: 0.8372945906152034\n",
      " Test loss: 0.3037193975492155; Test IoU: 0.697946826284074\n"
     ]
    },
    {
     "name": "stderr",
     "output_type": "stream",
     "text": [
      "\r",
      " 53%|█████▎    | 16/30 [18:50<16:29, 70.65s/it]"
     ]
    },
    {
     "name": "stdout",
     "output_type": "stream",
     "text": [
      "Epoch 16\n",
      " Train loss: 0.14085282058250614; Train IoU: 0.8378174563925037\n",
      " Test loss: 0.30154220562547307; Test IoU: 0.6930833437624861\n"
     ]
    },
    {
     "name": "stderr",
     "output_type": "stream",
     "text": [
      "\r",
      " 57%|█████▋    | 17/30 [20:00<15:15, 70.40s/it]"
     ]
    },
    {
     "name": "stdout",
     "output_type": "stream",
     "text": [
      "Epoch 17\n",
      " Train loss: 0.130212466891219; Train IoU: 0.8495489251515406\n",
      " Test loss: 0.2889736115115963; Test IoU: 0.7064362067143416\n"
     ]
    },
    {
     "name": "stderr",
     "output_type": "stream",
     "text": [
      "\r",
      " 60%|██████    | 18/30 [21:11<14:05, 70.46s/it]"
     ]
    },
    {
     "name": "stdout",
     "output_type": "stream",
     "text": [
      "Epoch 18\n",
      " Train loss: 0.12215742396145332; Train IoU: 0.8587981757252887\n",
      " Test loss: 0.2667760481573131; Test IoU: 0.7264292102490378\n"
     ]
    },
    {
     "name": "stderr",
     "output_type": "stream",
     "text": [
      "\r",
      " 63%|██████▎   | 19/30 [22:21<12:54, 70.37s/it]"
     ]
    },
    {
     "name": "stdout",
     "output_type": "stream",
     "text": [
      "Epoch 19\n",
      " Train loss: 0.1215108516739636; Train IoU: 0.8579027146958059\n",
      " Test loss: 0.2790780149094046; Test IoU: 0.7069951205292021\n"
     ]
    },
    {
     "name": "stderr",
     "output_type": "stream",
     "text": [
      "\r",
      " 67%|██████▋   | 20/30 [23:30<11:41, 70.15s/it]"
     ]
    },
    {
     "name": "stdout",
     "output_type": "stream",
     "text": [
      "Epoch 20\n",
      " Train loss: 0.1157325375370863; Train IoU: 0.8599876271823885\n",
      " Test loss: 0.3263154557850807; Test IoU: 0.6261631147979151\n"
     ]
    },
    {
     "name": "stderr",
     "output_type": "stream",
     "text": [
      "\r",
      " 70%|███████   | 21/30 [24:40<10:31, 70.13s/it]"
     ]
    },
    {
     "name": "stdout",
     "output_type": "stream",
     "text": [
      "Epoch 21\n",
      " Train loss: 0.11272194618132056; Train IoU: 0.8584938011395342\n",
      " Test loss: 0.28824157284819374; Test IoU: 0.681210186511\n"
     ]
    },
    {
     "name": "stderr",
     "output_type": "stream",
     "text": [
      "\r",
      " 73%|███████▎  | 22/30 [25:51<09:21, 70.18s/it]"
     ]
    },
    {
     "name": "stdout",
     "output_type": "stream",
     "text": [
      "Epoch 22\n",
      " Train loss: 0.11145056311677141; Train IoU: 0.8566089573000054\n",
      " Test loss: 0.24686004445977408; Test IoU: 0.7368491972745389\n"
     ]
    },
    {
     "name": "stderr",
     "output_type": "stream",
     "text": [
      "\r",
      " 77%|███████▋  | 23/30 [27:01<08:11, 70.18s/it]"
     ]
    },
    {
     "name": "stdout",
     "output_type": "stream",
     "text": [
      "Epoch 23\n",
      " Train loss: 0.10190814878882432; Train IoU: 0.8706379768861225\n",
      " Test loss: 0.25506672494487675; Test IoU: 0.7203553922562749\n"
     ]
    },
    {
     "name": "stderr",
     "output_type": "stream",
     "text": [
      "\r",
      " 80%|████████  | 24/30 [28:11<07:01, 70.19s/it]"
     ]
    },
    {
     "name": "stdout",
     "output_type": "stream",
     "text": [
      "Epoch 24\n",
      " Train loss: 0.11658704862362002; Train IoU: 0.842579231412874\n",
      " Test loss: 0.2704311184687157; Test IoU: 0.7112026292976398\n"
     ]
    },
    {
     "name": "stderr",
     "output_type": "stream",
     "text": [
      "\r",
      " 83%|████████▎ | 25/30 [29:22<05:51, 70.29s/it]"
     ]
    },
    {
     "name": "stdout",
     "output_type": "stream",
     "text": [
      "Epoch 25\n",
      " Train loss: 0.10122642720617898; Train IoU: 0.8633320203056905\n",
      " Test loss: 0.2595850226541632; Test IoU: 0.7196285467231063\n"
     ]
    },
    {
     "name": "stderr",
     "output_type": "stream",
     "text": [
      "\r",
      " 87%|████████▋ | 26/30 [30:32<04:41, 70.26s/it]"
     ]
    },
    {
     "name": "stdout",
     "output_type": "stream",
     "text": [
      "Epoch 26\n",
      " Train loss: 0.09260235181668909; Train IoU: 0.8759485891817412\n",
      " Test loss: 0.24475061675729273; Test IoU: 0.7268542946585883\n"
     ]
    },
    {
     "name": "stderr",
     "output_type": "stream",
     "text": [
      "\r",
      " 90%|█████████ | 27/30 [31:42<03:30, 70.17s/it]"
     ]
    },
    {
     "name": "stdout",
     "output_type": "stream",
     "text": [
      "Epoch 27\n",
      " Train loss: 0.08694913619902075; Train IoU: 0.8848061649790605\n",
      " Test loss: 0.24697398023518252; Test IoU: 0.7170437056818088\n"
     ]
    },
    {
     "name": "stderr",
     "output_type": "stream",
     "text": [
      "\r",
      " 93%|█████████▎| 28/30 [32:52<02:20, 70.15s/it]"
     ]
    },
    {
     "name": "stdout",
     "output_type": "stream",
     "text": [
      "Epoch 28\n",
      " Train loss: 0.08109757813011728; Train IoU: 0.8923694653312746\n",
      " Test loss: 0.2434478162630508; Test IoU: 0.7283974458986814\n"
     ]
    },
    {
     "name": "stderr",
     "output_type": "stream",
     "text": [
      "\r",
      " 97%|█████████▋| 29/30 [34:01<01:09, 69.98s/it]"
     ]
    },
    {
     "name": "stdout",
     "output_type": "stream",
     "text": [
      "Epoch 29\n",
      " Train loss: 0.07519649587026457; Train IoU: 0.8997338580186065\n",
      " Test loss: 0.2168087970176244; Test IoU: 0.757153601558181\n"
     ]
    },
    {
     "name": "stderr",
     "output_type": "stream",
     "text": [
      "100%|██████████| 30/30 [35:11<00:00, 70.38s/it]"
     ]
    },
    {
     "name": "stdout",
     "output_type": "stream",
     "text": [
      "Epoch 30\n",
      " Train loss: 0.08450994549728022; Train IoU: 0.8815803246323812\n",
      " Test loss: 0.223882695583448; Test IoU: 0.7464190424956613\n",
      "Best IoU score on test: 0.757153601558181\n"
     ]
    },
    {
     "name": "stderr",
     "output_type": "stream",
     "text": [
      "\n"
     ]
    }
   ],
   "source": [
    "train(\n",
    "    num_epochs,\n",
    "    model,\n",
    "    train_dataloader,\n",
    "    test_dataloader,\n",
    "    optimizer,\n",
    "    criterion,\n",
    "     )"
   ]
  },
  {
   "cell_type": "markdown",
   "id": "f764f159",
   "metadata": {},
   "source": [
    "#### Results\n",
    " 1) Unet without augmentations: lr=1e-4; 30 epoch; IoU: 0.757153601558181 </br>\n",
    " 2) Unet with augmentations - shit"
   ]
  },
  {
   "cell_type": "markdown",
   "id": "ee3d1d4b",
   "metadata": {},
   "source": [
    "## Part 2\n",
    "### DeepLabV3 +"
   ]
  },
  {
   "cell_type": "code",
   "execution_count": 20,
   "id": "916855b3",
   "metadata": {},
   "outputs": [],
   "source": [
    "#add augmentations\n",
    "#train new model from segmentation models pytorch (deeplab or fpn)"
   ]
  },
  {
   "cell_type": "code",
   "execution_count": 19,
   "id": "8e09abcb",
   "metadata": {},
   "outputs": [],
   "source": [
    "train_aug = A.Compose([\n",
    "    A.GaussNoise(\n",
    "        var_limit=0.1,\n",
    "        p=0.2),\n",
    "    #A.VerticalFlip(p=0.1),\n",
    "    A.HorizontalFlip(p=0.15),\n",
    "    A.ShiftScaleRotate(\n",
    "        shift_limit=0.09,\n",
    "        rotate_limit=15,\n",
    "        border_mode=0,\n",
    "        p=0.15\n",
    "    ),\n",
    "    A.transforms.PadIfNeeded(\n",
    "        min_height=576,\n",
    "        min_width=576,\n",
    "        border_mode=0\n",
    "    ),\n",
    "])\n",
    "\n",
    "test_aug = A.Compose([\n",
    "    A.transforms.PadIfNeeded(\n",
    "        min_height=576,\n",
    "        min_width=576,\n",
    "        border_mode=0\n",
    "    ),\n",
    "])"
   ]
  },
  {
   "cell_type": "code",
   "execution_count": 20,
   "id": "b93b4cd9",
   "metadata": {},
   "outputs": [],
   "source": [
    "train_dataset = RoadDataset(X_train, y_train, transform, aug=train_aug)\n",
    "test_dataset = RoadDataset(X_test, y_test, transform, aug=test_aug)"
   ]
  },
  {
   "cell_type": "code",
   "execution_count": 21,
   "id": "c1bc350a",
   "metadata": {},
   "outputs": [],
   "source": [
    "batch_size = 16\n",
    "train_dataloader = DataLoader(train_dataset, batch_size=batch_size, shuffle=True, num_workers=4)\n",
    "test_dataloader = DataLoader(test_dataset, 1, shuffle=False)"
   ]
  },
  {
   "cell_type": "code",
   "execution_count": 22,
   "id": "7e3076b2",
   "metadata": {},
   "outputs": [],
   "source": [
    "import segmentation_models_pytorch as smp"
   ]
  },
  {
   "cell_type": "code",
   "execution_count": 23,
   "id": "69d763e1",
   "metadata": {},
   "outputs": [],
   "source": [
    "model = smp.DeepLabV3Plus(\n",
    "    encoder_name='resnet50',).to(device)"
   ]
  },
  {
   "cell_type": "code",
   "execution_count": 24,
   "id": "b62c7721",
   "metadata": {},
   "outputs": [],
   "source": [
    "criterion = DiceLoss()\n",
    "optimizer = torch.optim.Adam(model.parameters(), lr=1e-4)\n",
    "num_epochs = 60"
   ]
  },
  {
   "cell_type": "code",
   "execution_count": 25,
   "id": "c22fad9e",
   "metadata": {},
   "outputs": [],
   "source": [
    "np.random.seed(0)\n",
    "torch.manual_seed(0)\n",
    "torch.cuda.manual_seed_all(0)\n",
    "torch.backends.cudnn.deterministic = True\n",
    "torch.backends.cudnn.benchmark = False"
   ]
  },
  {
   "cell_type": "code",
   "execution_count": 26,
   "id": "6c4f3177",
   "metadata": {
    "scrolled": true
   },
   "outputs": [
    {
     "name": "stderr",
     "output_type": "stream",
     "text": [
      "  0%|          | 0/60 [00:00<?, ?it/s]/home/kozunov/courses/dvag/env/lib/python3.6/site-packages/torch/nn/functional.py:1806: UserWarning: nn.functional.sigmoid is deprecated. Use torch.sigmoid instead.\n",
      "  warnings.warn(\"nn.functional.sigmoid is deprecated. Use torch.sigmoid instead.\")\n",
      "  2%|▏         | 1/60 [00:33<32:53, 33.45s/it]"
     ]
    },
    {
     "name": "stdout",
     "output_type": "stream",
     "text": [
      "Epoch 1\n",
      " Train loss: 0.31793802249722364; Train IoU: 0.6438344667612311\n",
      " Test loss: 0.3390328794309538; Test IoU: 0.6542948395610753\n"
     ]
    },
    {
     "name": "stderr",
     "output_type": "stream",
     "text": [
      "\r",
      "  3%|▎         | 2/60 [01:07<32:51, 33.98s/it]"
     ]
    },
    {
     "name": "stdout",
     "output_type": "stream",
     "text": [
      "Epoch 2\n",
      " Train loss: 0.15105148059565845; Train IoU: 0.7739737974177345\n",
      " Test loss: 0.2209519964374908; Test IoU: 0.7363329691523762\n"
     ]
    },
    {
     "name": "stderr",
     "output_type": "stream",
     "text": [
      "\r",
      "  5%|▌         | 3/60 [01:42<32:25, 34.13s/it]"
     ]
    },
    {
     "name": "stdout",
     "output_type": "stream",
     "text": [
      "Epoch 3\n",
      " Train loss: 0.11360560393914944; Train IoU: 0.819803833973017\n",
      " Test loss: 0.20170349535876758; Test IoU: 0.7585137720214594\n"
     ]
    },
    {
     "name": "stderr",
     "output_type": "stream",
     "text": [
      "\r",
      "  7%|▋         | 4/60 [02:16<32:06, 34.39s/it]"
     ]
    },
    {
     "name": "stdout",
     "output_type": "stream",
     "text": [
      "Epoch 4\n",
      " Train loss: 0.09722394914161868; Train IoU: 0.8400949579249529\n",
      " Test loss: 0.20014485240526939; Test IoU: 0.760942829974685\n"
     ]
    },
    {
     "name": "stderr",
     "output_type": "stream",
     "text": [
      "\r",
      "  8%|▊         | 5/60 [02:51<31:38, 34.52s/it]"
     ]
    },
    {
     "name": "stdout",
     "output_type": "stream",
     "text": [
      "Epoch 5\n",
      " Train loss: 0.08418207052277356; Train IoU: 0.8598238331027708\n",
      " Test loss: 0.16727099788787703; Test IoU: 0.7923401127439195\n"
     ]
    },
    {
     "name": "stderr",
     "output_type": "stream",
     "text": [
      "\r",
      " 10%|█         | 6/60 [03:26<31:13, 34.69s/it]"
     ]
    },
    {
     "name": "stdout",
     "output_type": "stream",
     "text": [
      "Epoch 6\n",
      " Train loss: 0.07157535087771533; Train IoU: 0.8782082511414917\n",
      " Test loss: 0.17251721391939137; Test IoU: 0.7794753445548849\n"
     ]
    },
    {
     "name": "stderr",
     "output_type": "stream",
     "text": [
      "\r",
      " 12%|█▏        | 7/60 [04:01<30:35, 34.64s/it]"
     ]
    },
    {
     "name": "stdout",
     "output_type": "stream",
     "text": [
      "Epoch 7\n",
      " Train loss: 0.07437976104457204; Train IoU: 0.8726287262969722\n",
      " Test loss: 0.15793026282907077; Test IoU: 0.7984524301907494\n"
     ]
    },
    {
     "name": "stderr",
     "output_type": "stream",
     "text": [
      "\r",
      " 13%|█▎        | 8/60 [04:35<30:03, 34.69s/it]"
     ]
    },
    {
     "name": "stdout",
     "output_type": "stream",
     "text": [
      "Epoch 8\n",
      " Train loss: 0.07312863919793106; Train IoU: 0.8726466973486072\n",
      " Test loss: 0.1427859106020296; Test IoU: 0.8088219745077743\n"
     ]
    },
    {
     "name": "stderr",
     "output_type": "stream",
     "text": [
      "\r",
      " 15%|█▌        | 9/60 [05:10<29:27, 34.66s/it]"
     ]
    },
    {
     "name": "stdout",
     "output_type": "stream",
     "text": [
      "Epoch 9\n",
      " Train loss: 0.06730942028324778; Train IoU: 0.8821330706947124\n",
      " Test loss: 0.1594756057817642; Test IoU: 0.7907426553417097\n"
     ]
    },
    {
     "name": "stderr",
     "output_type": "stream",
     "text": [
      "\r",
      " 17%|█▋        | 10/60 [05:44<28:36, 34.33s/it]"
     ]
    },
    {
     "name": "stdout",
     "output_type": "stream",
     "text": [
      "Epoch 10\n",
      " Train loss: 0.06340145337872388; Train IoU: 0.8883755338840157\n",
      " Test loss: 0.13195424809303458; Test IoU: 0.8186986967007492\n"
     ]
    },
    {
     "name": "stderr",
     "output_type": "stream",
     "text": [
      "\r",
      " 18%|█▊        | 11/60 [06:17<27:52, 34.13s/it]"
     ]
    },
    {
     "name": "stdout",
     "output_type": "stream",
     "text": [
      "Epoch 11\n",
      " Train loss: 0.05722001558396875; Train IoU: 0.8983863930857104\n",
      " Test loss: 0.12628444035847983; Test IoU: 0.827413341946517\n"
     ]
    },
    {
     "name": "stderr",
     "output_type": "stream",
     "text": [
      "\r",
      " 20%|██        | 12/60 [06:51<27:17, 34.11s/it]"
     ]
    },
    {
     "name": "stdout",
     "output_type": "stream",
     "text": [
      "Epoch 12\n",
      " Train loss: 0.05079565397123011; Train IoU: 0.9093094836215658\n",
      " Test loss: 0.14100212865768502; Test IoU: 0.8096406543094449\n"
     ]
    },
    {
     "name": "stderr",
     "output_type": "stream",
     "text": [
      "\r",
      " 22%|██▏       | 13/60 [07:25<26:38, 34.02s/it]"
     ]
    },
    {
     "name": "stdout",
     "output_type": "stream",
     "text": [
      "Epoch 13\n",
      " Train loss: 0.053336627599669666; Train IoU: 0.9049030324557289\n",
      " Test loss: 0.11783465947190376; Test IoU: 0.835888152865585\n"
     ]
    },
    {
     "name": "stderr",
     "output_type": "stream",
     "text": [
      "\r",
      " 23%|██▎       | 14/60 [08:00<26:10, 34.15s/it]"
     ]
    },
    {
     "name": "stdout",
     "output_type": "stream",
     "text": [
      "Epoch 14\n",
      " Train loss: 0.04685660397134176; Train IoU: 0.9160790029626434\n",
      " Test loss: 0.10694292255732567; Test IoU: 0.850209008348824\n"
     ]
    },
    {
     "name": "stderr",
     "output_type": "stream",
     "text": [
      "\r",
      " 25%|██▌       | 15/60 [08:35<25:49, 34.43s/it]"
     ]
    },
    {
     "name": "stdout",
     "output_type": "stream",
     "text": [
      "Epoch 15\n",
      " Train loss: 0.0426328182220459; Train IoU: 0.9232076466273538\n",
      " Test loss: 0.11468773508725101; Test IoU: 0.8404712559190287\n"
     ]
    },
    {
     "name": "stderr",
     "output_type": "stream",
     "text": [
      "\r",
      " 27%|██▋       | 16/60 [09:09<25:08, 34.27s/it]"
     ]
    },
    {
     "name": "stdout",
     "output_type": "stream",
     "text": [
      "Epoch 16\n",
      " Train loss: 0.04341961843211476; Train IoU: 0.9216698825698147\n",
      " Test loss: 0.10896421077588922; Test IoU: 0.8471671720146965\n"
     ]
    },
    {
     "name": "stderr",
     "output_type": "stream",
     "text": [
      "\r",
      " 28%|██▊       | 17/60 [09:43<24:36, 34.33s/it]"
     ]
    },
    {
     "name": "stdout",
     "output_type": "stream",
     "text": [
      "Epoch 17\n",
      " Train loss: 0.04469752602460908; Train IoU: 0.9192688420093258\n",
      " Test loss: 0.11656527187181934; Test IoU: 0.8352258101278619\n"
     ]
    },
    {
     "name": "stderr",
     "output_type": "stream",
     "text": [
      "\r",
      " 30%|███       | 18/60 [10:18<24:06, 34.44s/it]"
     ]
    },
    {
     "name": "stdout",
     "output_type": "stream",
     "text": [
      "Epoch 18\n",
      " Train loss: 0.04062466941228727; Train IoU: 0.9261513830485697\n",
      " Test loss: 0.10405839795935644; Test IoU: 0.8506807766092757\n"
     ]
    },
    {
     "name": "stderr",
     "output_type": "stream",
     "text": [
      "\r",
      " 32%|███▏      | 19/60 [10:53<23:38, 34.60s/it]"
     ]
    },
    {
     "name": "stdout",
     "output_type": "stream",
     "text": [
      "Epoch 19\n",
      " Train loss: 0.03670928972523387; Train IoU: 0.9330972828521676\n",
      " Test loss: 0.10570542507520005; Test IoU: 0.849164688312271\n"
     ]
    },
    {
     "name": "stderr",
     "output_type": "stream",
     "text": [
      "\r",
      " 33%|███▎      | 20/60 [11:27<23:01, 34.54s/it]"
     ]
    },
    {
     "name": "stdout",
     "output_type": "stream",
     "text": [
      "Epoch 20\n",
      " Train loss: 0.038772830149022545; Train IoU: 0.9294985266485017\n",
      " Test loss: 0.1101915262061167; Test IoU: 0.8411189513353349\n"
     ]
    },
    {
     "name": "stderr",
     "output_type": "stream",
     "text": [
      "\r",
      " 35%|███▌      | 21/60 [12:03<22:39, 34.85s/it]"
     ]
    },
    {
     "name": "stdout",
     "output_type": "stream",
     "text": [
      "Epoch 21\n",
      " Train loss: 0.042279217301345456; Train IoU: 0.9227313402404039\n",
      " Test loss: 0.10373787166865449; Test IoU: 0.8495518723383628\n"
     ]
    },
    {
     "name": "stderr",
     "output_type": "stream",
     "text": [
      "\r",
      " 37%|███▋      | 22/60 [12:38<22:13, 35.08s/it]"
     ]
    },
    {
     "name": "stdout",
     "output_type": "stream",
     "text": [
      "Epoch 22\n",
      " Train loss: 0.04172189206611819; Train IoU: 0.9234969410540325\n",
      " Test loss: 0.09984818604438817; Test IoU: 0.8549992968925493\n"
     ]
    },
    {
     "name": "stderr",
     "output_type": "stream",
     "text": [
      "\r",
      " 38%|███▊      | 23/60 [13:14<21:41, 35.16s/it]"
     ]
    },
    {
     "name": "stdout",
     "output_type": "stream",
     "text": [
      "Epoch 23\n",
      " Train loss: 0.037611797088530005; Train IoU: 0.9309442534683267\n",
      " Test loss: 0.09743110719881101; Test IoU: 0.8573018692176414\n"
     ]
    },
    {
     "name": "stderr",
     "output_type": "stream",
     "text": [
      "\r",
      " 40%|████      | 24/60 [13:49<21:01, 35.05s/it]"
     ]
    },
    {
     "name": "stdout",
     "output_type": "stream",
     "text": [
      "Epoch 24\n",
      " Train loss: 0.036533474922180176; Train IoU: 0.9326043333983112\n",
      " Test loss: 0.09811545017103082; Test IoU: 0.8563184721009611\n"
     ]
    },
    {
     "name": "stderr",
     "output_type": "stream",
     "text": [
      "\r",
      " 42%|████▏     | 25/60 [14:23<20:21, 34.91s/it]"
     ]
    },
    {
     "name": "stdout",
     "output_type": "stream",
     "text": [
      "Epoch 25\n",
      " Train loss: 0.03159396095973689; Train IoU: 0.9418151135848144\n",
      " Test loss: 0.09906806085752026; Test IoU: 0.8554015205800685\n"
     ]
    },
    {
     "name": "stderr",
     "output_type": "stream",
     "text": [
      "\r",
      " 43%|████▎     | 26/60 [14:58<19:42, 34.77s/it]"
     ]
    },
    {
     "name": "stdout",
     "output_type": "stream",
     "text": [
      "Epoch 26\n",
      " Train loss: 0.04004457084144034; Train IoU: 0.9262542569201949\n",
      " Test loss: 0.1566643616924547; Test IoU: 0.7837351831047027\n"
     ]
    },
    {
     "name": "stderr",
     "output_type": "stream",
     "text": [
      "\r",
      " 45%|████▌     | 27/60 [15:32<19:05, 34.70s/it]"
     ]
    },
    {
     "name": "stdout",
     "output_type": "stream",
     "text": [
      "Epoch 27\n",
      " Train loss: 0.050012584139661094; Train IoU: 0.9084283027231144\n",
      " Test loss: 0.11739955046405531; Test IoU: 0.8330409669955356\n"
     ]
    },
    {
     "name": "stderr",
     "output_type": "stream",
     "text": [
      "\r",
      " 47%|████▋     | 28/60 [16:06<18:20, 34.40s/it]"
     ]
    },
    {
     "name": "stdout",
     "output_type": "stream",
     "text": [
      "Epoch 28\n",
      " Train loss: 0.039956001246847755; Train IoU: 0.926407822130692\n",
      " Test loss: 0.11130981684819749; Test IoU: 0.8403154284089982\n"
     ]
    },
    {
     "name": "stderr",
     "output_type": "stream",
     "text": [
      "\r",
      " 48%|████▊     | 29/60 [16:40<17:41, 34.25s/it]"
     ]
    },
    {
     "name": "stdout",
     "output_type": "stream",
     "text": [
      "Epoch 29\n",
      " Train loss: 0.03543719867380654; Train IoU: 0.9346285804194951\n",
      " Test loss: 0.10569780411785595; Test IoU: 0.8436965123553587\n"
     ]
    },
    {
     "name": "stderr",
     "output_type": "stream",
     "text": [
      "\r",
      " 50%|█████     | 30/60 [17:13<17:02, 34.10s/it]"
     ]
    },
    {
     "name": "stdout",
     "output_type": "stream",
     "text": [
      "Epoch 30\n",
      " Train loss: 0.030912368762783887; Train IoU: 0.9425815321952886\n",
      " Test loss: 0.09370982347558078; Test IoU: 0.862543951562203\n"
     ]
    },
    {
     "name": "stderr",
     "output_type": "stream",
     "text": [
      "\r",
      " 52%|█████▏    | 31/60 [17:49<16:40, 34.51s/it]"
     ]
    },
    {
     "name": "stdout",
     "output_type": "stream",
     "text": [
      "Epoch 31\n",
      " Train loss: 0.03065074217028734; Train IoU: 0.9429192249106995\n",
      " Test loss: 0.0994308531012165; Test IoU: 0.8556991865387015\n"
     ]
    },
    {
     "name": "stderr",
     "output_type": "stream",
     "text": [
      "\r",
      " 53%|█████▎    | 32/60 [18:23<16:03, 34.42s/it]"
     ]
    },
    {
     "name": "stdout",
     "output_type": "stream",
     "text": [
      "Epoch 32\n",
      " Train loss: 0.02874933364914685; Train IoU: 0.9465328317009049\n",
      " Test loss: 0.10448947616908104; Test IoU: 0.8510298820893746\n"
     ]
    },
    {
     "name": "stderr",
     "output_type": "stream",
     "text": [
      "\r",
      " 55%|█████▌    | 33/60 [18:57<15:23, 34.19s/it]"
     ]
    },
    {
     "name": "stdout",
     "output_type": "stream",
     "text": [
      "Epoch 33\n",
      " Train loss: 0.032175756082302186; Train IoU: 0.9403205989577864\n",
      " Test loss: 0.09152667135952815; Test IoU: 0.8651177345221479\n"
     ]
    },
    {
     "name": "stderr",
     "output_type": "stream",
     "text": [
      "\r",
      " 57%|█████▋    | 34/60 [19:31<14:49, 34.22s/it]"
     ]
    },
    {
     "name": "stdout",
     "output_type": "stream",
     "text": [
      "Epoch 34\n",
      " Train loss: 0.030182637819429724; Train IoU: 0.9437040447095295\n",
      " Test loss: 0.09393232598152335; Test IoU: 0.8617806340464158\n"
     ]
    },
    {
     "name": "stderr",
     "output_type": "stream",
     "text": [
      "\r",
      " 58%|█████▊    | 35/60 [20:05<14:12, 34.12s/it]"
     ]
    },
    {
     "name": "stdout",
     "output_type": "stream",
     "text": [
      "Epoch 35\n",
      " Train loss: 0.029439997382280304; Train IoU: 0.945140581773338\n",
      " Test loss: 0.09337531023373886; Test IoU: 0.863044539009492\n"
     ]
    },
    {
     "name": "stderr",
     "output_type": "stream",
     "text": [
      "\r",
      " 60%|██████    | 36/60 [20:39<13:37, 34.07s/it]"
     ]
    },
    {
     "name": "stdout",
     "output_type": "stream",
     "text": [
      "Epoch 36\n",
      " Train loss: 0.026659304048956896; Train IoU: 0.9501922825190459\n",
      " Test loss: 0.10209460155060303; Test IoU: 0.8507183340503035\n"
     ]
    },
    {
     "name": "stderr",
     "output_type": "stream",
     "text": [
      "\r",
      " 62%|██████▏   | 37/60 [21:13<13:02, 34.00s/it]"
     ]
    },
    {
     "name": "stdout",
     "output_type": "stream",
     "text": [
      "Epoch 37\n",
      " Train loss: 0.027808804337571307; Train IoU: 0.9480883473001204\n",
      " Test loss: 0.09983043882944813; Test IoU: 0.8531032957661745\n"
     ]
    },
    {
     "name": "stderr",
     "output_type": "stream",
     "text": [
      "\r",
      " 63%|██████▎   | 38/60 [21:46<12:26, 33.91s/it]"
     ]
    },
    {
     "name": "stdout",
     "output_type": "stream",
     "text": [
      "Epoch 38\n",
      " Train loss: 0.027225822937197802; Train IoU: 0.9490920600511511\n",
      " Test loss: 0.10084082628493984; Test IoU: 0.8528940330092518\n"
     ]
    },
    {
     "name": "stderr",
     "output_type": "stream",
     "text": [
      "\r",
      " 65%|██████▌   | 39/60 [22:21<11:54, 34.00s/it]"
     ]
    },
    {
     "name": "stdout",
     "output_type": "stream",
     "text": [
      "Epoch 39\n",
      " Train loss: 0.027043082365175573; Train IoU: 0.9494439350010334\n",
      " Test loss: 0.09452323908130872; Test IoU: 0.8611398957577199\n"
     ]
    },
    {
     "name": "stderr",
     "output_type": "stream",
     "text": [
      "\r",
      " 67%|██████▋   | 40/60 [22:55<11:19, 34.00s/it]"
     ]
    },
    {
     "name": "stdout",
     "output_type": "stream",
     "text": [
      "Epoch 40\n",
      " Train loss: 0.0266933295784927; Train IoU: 0.9501410874184758\n",
      " Test loss: 0.1004912953942878; Test IoU: 0.8520352476536006\n"
     ]
    },
    {
     "name": "stderr",
     "output_type": "stream",
     "text": [
      "\r",
      " 68%|██████▊   | 41/60 [23:29<10:47, 34.08s/it]"
     ]
    },
    {
     "name": "stdout",
     "output_type": "stream",
     "text": [
      "Epoch 41\n",
      " Train loss: 0.025448646487259283; Train IoU: 0.9521853064233757\n",
      " Test loss: 0.09637229083335563; Test IoU: 0.8584549064571304\n"
     ]
    },
    {
     "name": "stderr",
     "output_type": "stream",
     "text": [
      "\r",
      " 70%|███████   | 42/60 [24:03<10:12, 34.04s/it]"
     ]
    },
    {
     "name": "stdout",
     "output_type": "stream",
     "text": [
      "Epoch 42\n",
      " Train loss: 0.024801928822587176; Train IoU: 0.9533656969232073\n",
      " Test loss: 0.1032769922252115; Test IoU: 0.8498445889859528\n"
     ]
    },
    {
     "name": "stderr",
     "output_type": "stream",
     "text": [
      "\r",
      " 72%|███████▏  | 43/60 [24:37<09:37, 33.95s/it]"
     ]
    },
    {
     "name": "stdout",
     "output_type": "stream",
     "text": [
      "Epoch 43\n",
      " Train loss: 0.023443589850169855; Train IoU: 0.9561370214177322\n",
      " Test loss: 0.10839030105773717; Test IoU: 0.846204198349759\n"
     ]
    },
    {
     "name": "stderr",
     "output_type": "stream",
     "text": [
      "\r",
      " 73%|███████▎  | 44/60 [25:11<09:04, 34.05s/it]"
     ]
    },
    {
     "name": "stdout",
     "output_type": "stream",
     "text": [
      "Epoch 44\n",
      " Train loss: 0.02291349957628948; Train IoU: 0.9569316288650106\n",
      " Test loss: 0.09775669226363369; Test IoU: 0.8563756659487483\n"
     ]
    },
    {
     "name": "stderr",
     "output_type": "stream",
     "text": [
      "\r",
      " 75%|███████▌  | 45/60 [25:45<08:29, 33.98s/it]"
     ]
    },
    {
     "name": "stdout",
     "output_type": "stream",
     "text": [
      "Epoch 45\n",
      " Train loss: 0.021779230455072913; Train IoU: 0.9591592862645621\n",
      " Test loss: 0.09714030457413904; Test IoU: 0.8592283777193324\n"
     ]
    },
    {
     "name": "stderr",
     "output_type": "stream",
     "text": [
      "\r",
      " 77%|███████▋  | 46/60 [26:19<07:57, 34.10s/it]"
     ]
    },
    {
     "name": "stdout",
     "output_type": "stream",
     "text": [
      "Epoch 46\n",
      " Train loss: 0.02225391603097683; Train IoU: 0.9581972148873477\n",
      " Test loss: 0.09678802724298277; Test IoU: 0.8577400364445634\n"
     ]
    },
    {
     "name": "stderr",
     "output_type": "stream",
     "text": [
      "\r",
      " 78%|███████▊  | 47/60 [26:53<07:22, 34.02s/it]"
     ]
    },
    {
     "name": "stdout",
     "output_type": "stream",
     "text": [
      "Epoch 47\n",
      " Train loss: 0.022196838041631188; Train IoU: 0.9582901950345314\n",
      " Test loss: 0.10211481786754033; Test IoU: 0.8503548344991578\n"
     ]
    },
    {
     "name": "stderr",
     "output_type": "stream",
     "text": [
      "\r",
      " 80%|████████  | 48/60 [27:27<06:47, 33.94s/it]"
     ]
    },
    {
     "name": "stdout",
     "output_type": "stream",
     "text": [
      "Epoch 48\n",
      " Train loss: 0.022751127801290374; Train IoU: 0.9572307780355845\n",
      " Test loss: 0.09739473013028707; Test IoU: 0.8586471221903047\n"
     ]
    },
    {
     "name": "stderr",
     "output_type": "stream",
     "text": [
      "\r",
      " 82%|████████▏ | 49/60 [28:00<06:12, 33.83s/it]"
     ]
    },
    {
     "name": "stdout",
     "output_type": "stream",
     "text": [
      "Epoch 49\n",
      " Train loss: 0.021704364113691376; Train IoU: 0.9592331006064868\n",
      " Test loss: 0.09984167280806798; Test IoU: 0.855747432325334\n"
     ]
    },
    {
     "name": "stderr",
     "output_type": "stream",
     "text": [
      "\r",
      " 83%|████████▎ | 50/60 [28:34<05:38, 33.84s/it]"
     ]
    },
    {
     "name": "stdout",
     "output_type": "stream",
     "text": [
      "Epoch 50\n",
      " Train loss: 0.02056297587185371; Train IoU: 0.9612631646245247\n",
      " Test loss: 0.09512153254252047; Test IoU: 0.8601582124656766\n"
     ]
    },
    {
     "name": "stderr",
     "output_type": "stream",
     "text": [
      "\r",
      " 85%|████████▌ | 51/60 [29:08<05:05, 33.95s/it]"
     ]
    },
    {
     "name": "stdout",
     "output_type": "stream",
     "text": [
      "Epoch 51\n",
      " Train loss: 0.021550322451242585; Train IoU: 0.9593242070199253\n",
      " Test loss: 0.09208431717467634; Test IoU: 0.8642131605384025\n"
     ]
    },
    {
     "name": "stderr",
     "output_type": "stream",
     "text": [
      "\r",
      " 87%|████████▋ | 52/60 [29:42<04:31, 33.96s/it]"
     ]
    },
    {
     "name": "stdout",
     "output_type": "stream",
     "text": [
      "Epoch 52\n",
      " Train loss: 0.019848867160517994; Train IoU: 0.9625736278277163\n",
      " Test loss: 0.0968996188411974; Test IoU: 0.8587937790529077\n"
     ]
    },
    {
     "name": "stderr",
     "output_type": "stream",
     "text": [
      "\r",
      " 88%|████████▊ | 53/60 [30:16<03:57, 33.87s/it]"
     ]
    },
    {
     "name": "stdout",
     "output_type": "stream",
     "text": [
      "Epoch 53\n",
      " Train loss: 0.022398896333647937; Train IoU: 0.9578111402222522\n",
      " Test loss: 0.1090817386156892; Test IoU: 0.8402907393517739\n"
     ]
    },
    {
     "name": "stderr",
     "output_type": "stream",
     "text": [
      "\r",
      " 90%|█████████ | 54/60 [30:50<03:22, 33.80s/it]"
     ]
    },
    {
     "name": "stdout",
     "output_type": "stream",
     "text": [
      "Epoch 54\n",
      " Train loss: 0.02087167995732005; Train IoU: 0.9606195754258383\n",
      " Test loss: 0.08506821851207785; Test IoU: 0.8736673165210467\n"
     ]
    },
    {
     "name": "stderr",
     "output_type": "stream",
     "text": [
      "\r",
      " 92%|█████████▏| 55/60 [31:23<02:49, 33.81s/it]"
     ]
    },
    {
     "name": "stdout",
     "output_type": "stream",
     "text": [
      "Epoch 55\n",
      " Train loss: 0.019976612998218072; Train IoU: 0.962372440187475\n",
      " Test loss: 0.10486031422331997; Test IoU: 0.8492331642663548\n"
     ]
    },
    {
     "name": "stderr",
     "output_type": "stream",
     "text": [
      "\r",
      " 93%|█████████▎| 56/60 [31:57<02:15, 33.79s/it]"
     ]
    },
    {
     "name": "stdout",
     "output_type": "stream",
     "text": [
      "Epoch 56\n",
      " Train loss: 0.026839595015456037; Train IoU: 0.9495168434573993\n",
      " Test loss: 0.11601136481925232; Test IoU: 0.8289564288984802\n"
     ]
    },
    {
     "name": "stderr",
     "output_type": "stream",
     "text": [
      "\r",
      " 95%|█████████▌| 57/60 [32:32<01:41, 33.97s/it]"
     ]
    },
    {
     "name": "stdout",
     "output_type": "stream",
     "text": [
      "Epoch 57\n",
      " Train loss: 0.025669109530565216; Train IoU: 0.9515919851028011\n",
      " Test loss: 0.10408844169416384; Test IoU: 0.8481356256275713\n"
     ]
    },
    {
     "name": "stderr",
     "output_type": "stream",
     "text": [
      "\r",
      " 97%|█████████▋| 58/60 [33:05<01:07, 33.84s/it]"
     ]
    },
    {
     "name": "stdout",
     "output_type": "stream",
     "text": [
      "Epoch 58\n",
      " Train loss: 0.02469652745781875; Train IoU: 0.9532438635056307\n",
      " Test loss: 0.11390922521347324; Test IoU: 0.8364885944094623\n"
     ]
    },
    {
     "name": "stderr",
     "output_type": "stream",
     "text": [
      "\r",
      " 98%|█████████▊| 59/60 [33:39<00:33, 33.76s/it]"
     ]
    },
    {
     "name": "stdout",
     "output_type": "stream",
     "text": [
      "Epoch 59\n",
      " Train loss: 0.022208782230935444; Train IoU: 0.9580706471777681\n",
      " Test loss: 0.103825359856157; Test IoU: 0.8493056163478173\n"
     ]
    },
    {
     "name": "stderr",
     "output_type": "stream",
     "text": [
      "100%|██████████| 60/60 [34:12<00:00, 34.22s/it]"
     ]
    },
    {
     "name": "stdout",
     "output_type": "stream",
     "text": [
      "Epoch 60\n",
      " Train loss: 0.021470330110410364; Train IoU: 0.9592721853248025\n",
      " Test loss: 0.09932184001626489; Test IoU: 0.8531404948825618\n",
      "Best IoU score on test: 0.8736673165210467\n"
     ]
    },
    {
     "name": "stderr",
     "output_type": "stream",
     "text": [
      "\n"
     ]
    }
   ],
   "source": [
    "train(\n",
    "    num_epochs,\n",
    "    model,\n",
    "    train_dataloader,\n",
    "    test_dataloader,\n",
    "    optimizer,\n",
    "    criterion,\n",
    "     )"
   ]
  },
  {
   "cell_type": "code",
   "execution_count": null,
   "id": "51ad1c27",
   "metadata": {},
   "outputs": [],
   "source": []
  }
 ],
 "metadata": {
  "kernelspec": {
   "display_name": "Python 3",
   "language": "python",
   "name": "python3"
  },
  "language_info": {
   "codemirror_mode": {
    "name": "ipython",
    "version": 3
   },
   "file_extension": ".py",
   "mimetype": "text/x-python",
   "name": "python",
   "nbconvert_exporter": "python",
   "pygments_lexer": "ipython3",
   "version": "3.6.9"
  }
 },
 "nbformat": 4,
 "nbformat_minor": 5
}
